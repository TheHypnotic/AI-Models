{
  "cells": [
    {
      "cell_type": "markdown",
      "metadata": {
        "id": "view-in-github",
        "colab_type": "text"
      },
      "source": [
        "<a href=\"https://colab.research.google.com/github/TheHypnotic/AI-Models/blob/main/vision/Lexica.ipynb\" target=\"_parent\"><img src=\"https://colab.research.google.com/assets/colab-badge.svg\" alt=\"Open In Colab\"/></a>"
      ]
    },
    {
      "cell_type": "markdown",
      "metadata": {
        "id": "HaP5cNWTC555"
      },
      "source": [
        "https://huggingface.co/Linaqruf/animagine-xl-2.0"
      ]
    },
    {
      "cell_type": "code",
      "execution_count": null,
      "metadata": {
        "colab": {
          "base_uri": "https://localhost:8080/"
        },
        "id": "_DxkNds1xVpg",
        "outputId": "8ca199de-3c4f-42a1-bf0d-ca4e9f41032d"
      },
      "outputs": [
        {
          "name": "stdout",
          "output_type": "stream",
          "text": [
            "Collecting peft\n",
            "  Downloading peft-0.10.0-py3-none-any.whl (199 kB)\n",
            "\u001b[2K     \u001b[90m━━━━━━━━━━━━━━━━━━━━━━━━━━━━━━━━━━━━━━━━\u001b[0m \u001b[32m199.1/199.1 kB\u001b[0m \u001b[31m1.7 MB/s\u001b[0m eta \u001b[36m0:00:00\u001b[0m\n",
            "\u001b[?25hRequirement already satisfied: numpy>=1.17 in /usr/local/lib/python3.10/dist-packages (from peft) (1.25.2)\n",
            "Requirement already satisfied: packaging>=20.0 in /usr/local/lib/python3.10/dist-packages (from peft) (24.0)\n",
            "Requirement already satisfied: psutil in /usr/local/lib/python3.10/dist-packages (from peft) (5.9.5)\n",
            "Requirement already satisfied: pyyaml in /usr/local/lib/python3.10/dist-packages (from peft) (6.0.1)\n",
            "Requirement already satisfied: torch>=1.13.0 in /usr/local/lib/python3.10/dist-packages (from peft) (2.2.1+cu121)\n",
            "Requirement already satisfied: transformers in /usr/local/lib/python3.10/dist-packages (from peft) (4.40.0)\n",
            "Requirement already satisfied: tqdm in /usr/local/lib/python3.10/dist-packages (from peft) (4.66.2)\n",
            "Requirement already satisfied: accelerate>=0.21.0 in /usr/local/lib/python3.10/dist-packages (from peft) (0.29.3)\n",
            "Requirement already satisfied: safetensors in /usr/local/lib/python3.10/dist-packages (from peft) (0.4.3)\n",
            "Requirement already satisfied: huggingface-hub>=0.17.0 in /usr/local/lib/python3.10/dist-packages (from peft) (0.20.3)\n",
            "Requirement already satisfied: filelock in /usr/local/lib/python3.10/dist-packages (from huggingface-hub>=0.17.0->peft) (3.13.4)\n",
            "Requirement already satisfied: fsspec>=2023.5.0 in /usr/local/lib/python3.10/dist-packages (from huggingface-hub>=0.17.0->peft) (2023.6.0)\n",
            "Requirement already satisfied: requests in /usr/local/lib/python3.10/dist-packages (from huggingface-hub>=0.17.0->peft) (2.31.0)\n",
            "Requirement already satisfied: typing-extensions>=3.7.4.3 in /usr/local/lib/python3.10/dist-packages (from huggingface-hub>=0.17.0->peft) (4.11.0)\n",
            "Requirement already satisfied: sympy in /usr/local/lib/python3.10/dist-packages (from torch>=1.13.0->peft) (1.12)\n",
            "Requirement already satisfied: networkx in /usr/local/lib/python3.10/dist-packages (from torch>=1.13.0->peft) (3.3)\n",
            "Requirement already satisfied: jinja2 in /usr/local/lib/python3.10/dist-packages (from torch>=1.13.0->peft) (3.1.3)\n",
            "Requirement already satisfied: nvidia-cuda-nvrtc-cu12==12.1.105 in /usr/local/lib/python3.10/dist-packages (from torch>=1.13.0->peft) (12.1.105)\n",
            "Requirement already satisfied: nvidia-cuda-runtime-cu12==12.1.105 in /usr/local/lib/python3.10/dist-packages (from torch>=1.13.0->peft) (12.1.105)\n",
            "Requirement already satisfied: nvidia-cuda-cupti-cu12==12.1.105 in /usr/local/lib/python3.10/dist-packages (from torch>=1.13.0->peft) (12.1.105)\n",
            "Requirement already satisfied: nvidia-cudnn-cu12==8.9.2.26 in /usr/local/lib/python3.10/dist-packages (from torch>=1.13.0->peft) (8.9.2.26)\n",
            "Requirement already satisfied: nvidia-cublas-cu12==12.1.3.1 in /usr/local/lib/python3.10/dist-packages (from torch>=1.13.0->peft) (12.1.3.1)\n",
            "Requirement already satisfied: nvidia-cufft-cu12==11.0.2.54 in /usr/local/lib/python3.10/dist-packages (from torch>=1.13.0->peft) (11.0.2.54)\n",
            "Requirement already satisfied: nvidia-curand-cu12==10.3.2.106 in /usr/local/lib/python3.10/dist-packages (from torch>=1.13.0->peft) (10.3.2.106)\n",
            "Requirement already satisfied: nvidia-cusolver-cu12==11.4.5.107 in /usr/local/lib/python3.10/dist-packages (from torch>=1.13.0->peft) (11.4.5.107)\n",
            "Requirement already satisfied: nvidia-cusparse-cu12==12.1.0.106 in /usr/local/lib/python3.10/dist-packages (from torch>=1.13.0->peft) (12.1.0.106)\n",
            "Requirement already satisfied: nvidia-nccl-cu12==2.19.3 in /usr/local/lib/python3.10/dist-packages (from torch>=1.13.0->peft) (2.19.3)\n",
            "Requirement already satisfied: nvidia-nvtx-cu12==12.1.105 in /usr/local/lib/python3.10/dist-packages (from torch>=1.13.0->peft) (12.1.105)\n",
            "Requirement already satisfied: triton==2.2.0 in /usr/local/lib/python3.10/dist-packages (from torch>=1.13.0->peft) (2.2.0)\n",
            "Requirement already satisfied: nvidia-nvjitlink-cu12 in /usr/local/lib/python3.10/dist-packages (from nvidia-cusolver-cu12==11.4.5.107->torch>=1.13.0->peft) (12.4.127)\n",
            "Requirement already satisfied: regex!=2019.12.17 in /usr/local/lib/python3.10/dist-packages (from transformers->peft) (2023.12.25)\n",
            "Requirement already satisfied: tokenizers<0.20,>=0.19 in /usr/local/lib/python3.10/dist-packages (from transformers->peft) (0.19.1)\n",
            "Requirement already satisfied: MarkupSafe>=2.0 in /usr/local/lib/python3.10/dist-packages (from jinja2->torch>=1.13.0->peft) (2.1.5)\n",
            "Requirement already satisfied: charset-normalizer<4,>=2 in /usr/local/lib/python3.10/dist-packages (from requests->huggingface-hub>=0.17.0->peft) (3.3.2)\n",
            "Requirement already satisfied: idna<4,>=2.5 in /usr/local/lib/python3.10/dist-packages (from requests->huggingface-hub>=0.17.0->peft) (3.7)\n",
            "Requirement already satisfied: urllib3<3,>=1.21.1 in /usr/local/lib/python3.10/dist-packages (from requests->huggingface-hub>=0.17.0->peft) (2.0.7)\n",
            "Requirement already satisfied: certifi>=2017.4.17 in /usr/local/lib/python3.10/dist-packages (from requests->huggingface-hub>=0.17.0->peft) (2024.2.2)\n",
            "Requirement already satisfied: mpmath>=0.19 in /usr/local/lib/python3.10/dist-packages (from sympy->torch>=1.13.0->peft) (1.3.0)\n",
            "Installing collected packages: peft\n",
            "Successfully installed peft-0.10.0\n"
          ]
        }
      ],
      "source": [
        "!pip install -U peft"
      ]
    },
    {
      "cell_type": "code",
      "execution_count": null,
      "metadata": {
        "colab": {
          "base_uri": "https://localhost:8080/"
        },
        "id": "tFmWaZGxhTjM",
        "outputId": "7529ed1d-30d9-4094-88c6-0a09dc128c2e"
      },
      "outputs": [
        {
          "name": "stdout",
          "output_type": "stream",
          "text": [
            "Requirement already satisfied: diffusers in /usr/local/lib/python3.10/dist-packages (0.27.2)\n",
            "Requirement already satisfied: invisible_watermark in /usr/local/lib/python3.10/dist-packages (0.2.0)\n",
            "Requirement already satisfied: transformers in /usr/local/lib/python3.10/dist-packages (4.40.0)\n",
            "Requirement already satisfied: accelerate in /usr/local/lib/python3.10/dist-packages (0.29.3)\n",
            "Requirement already satisfied: safetensors in /usr/local/lib/python3.10/dist-packages (0.4.3)\n",
            "Requirement already satisfied: importlib-metadata in /usr/local/lib/python3.10/dist-packages (from diffusers) (7.1.0)\n",
            "Requirement already satisfied: filelock in /usr/local/lib/python3.10/dist-packages (from diffusers) (3.13.4)\n",
            "Requirement already satisfied: huggingface-hub>=0.20.2 in /usr/local/lib/python3.10/dist-packages (from diffusers) (0.20.3)\n",
            "Requirement already satisfied: numpy in /usr/local/lib/python3.10/dist-packages (from diffusers) (1.25.2)\n",
            "Requirement already satisfied: regex!=2019.12.17 in /usr/local/lib/python3.10/dist-packages (from diffusers) (2023.12.25)\n",
            "Requirement already satisfied: requests in /usr/local/lib/python3.10/dist-packages (from diffusers) (2.31.0)\n",
            "Requirement already satisfied: Pillow in /usr/local/lib/python3.10/dist-packages (from diffusers) (9.4.0)\n",
            "Requirement already satisfied: PyWavelets>=1.1.1 in /usr/local/lib/python3.10/dist-packages (from invisible_watermark) (1.6.0)\n",
            "Requirement already satisfied: opencv-python>=4.1.0.25 in /usr/local/lib/python3.10/dist-packages (from invisible_watermark) (4.8.0.76)\n",
            "Requirement already satisfied: torch in /usr/local/lib/python3.10/dist-packages (from invisible_watermark) (2.2.1+cu121)\n",
            "Requirement already satisfied: packaging>=20.0 in /usr/local/lib/python3.10/dist-packages (from transformers) (24.0)\n",
            "Requirement already satisfied: pyyaml>=5.1 in /usr/local/lib/python3.10/dist-packages (from transformers) (6.0.1)\n",
            "Requirement already satisfied: tokenizers<0.20,>=0.19 in /usr/local/lib/python3.10/dist-packages (from transformers) (0.19.1)\n",
            "Requirement already satisfied: tqdm>=4.27 in /usr/local/lib/python3.10/dist-packages (from transformers) (4.66.2)\n",
            "Requirement already satisfied: psutil in /usr/local/lib/python3.10/dist-packages (from accelerate) (5.9.5)\n",
            "Requirement already satisfied: fsspec>=2023.5.0 in /usr/local/lib/python3.10/dist-packages (from huggingface-hub>=0.20.2->diffusers) (2023.6.0)\n",
            "Requirement already satisfied: typing-extensions>=3.7.4.3 in /usr/local/lib/python3.10/dist-packages (from huggingface-hub>=0.20.2->diffusers) (4.11.0)\n",
            "Requirement already satisfied: sympy in /usr/local/lib/python3.10/dist-packages (from torch->invisible_watermark) (1.12)\n",
            "Requirement already satisfied: networkx in /usr/local/lib/python3.10/dist-packages (from torch->invisible_watermark) (3.3)\n",
            "Requirement already satisfied: jinja2 in /usr/local/lib/python3.10/dist-packages (from torch->invisible_watermark) (3.1.3)\n",
            "Requirement already satisfied: nvidia-cuda-nvrtc-cu12==12.1.105 in /usr/local/lib/python3.10/dist-packages (from torch->invisible_watermark) (12.1.105)\n",
            "Requirement already satisfied: nvidia-cuda-runtime-cu12==12.1.105 in /usr/local/lib/python3.10/dist-packages (from torch->invisible_watermark) (12.1.105)\n",
            "Requirement already satisfied: nvidia-cuda-cupti-cu12==12.1.105 in /usr/local/lib/python3.10/dist-packages (from torch->invisible_watermark) (12.1.105)\n",
            "Requirement already satisfied: nvidia-cudnn-cu12==8.9.2.26 in /usr/local/lib/python3.10/dist-packages (from torch->invisible_watermark) (8.9.2.26)\n",
            "Requirement already satisfied: nvidia-cublas-cu12==12.1.3.1 in /usr/local/lib/python3.10/dist-packages (from torch->invisible_watermark) (12.1.3.1)\n",
            "Requirement already satisfied: nvidia-cufft-cu12==11.0.2.54 in /usr/local/lib/python3.10/dist-packages (from torch->invisible_watermark) (11.0.2.54)\n",
            "Requirement already satisfied: nvidia-curand-cu12==10.3.2.106 in /usr/local/lib/python3.10/dist-packages (from torch->invisible_watermark) (10.3.2.106)\n",
            "Requirement already satisfied: nvidia-cusolver-cu12==11.4.5.107 in /usr/local/lib/python3.10/dist-packages (from torch->invisible_watermark) (11.4.5.107)\n",
            "Requirement already satisfied: nvidia-cusparse-cu12==12.1.0.106 in /usr/local/lib/python3.10/dist-packages (from torch->invisible_watermark) (12.1.0.106)\n",
            "Requirement already satisfied: nvidia-nccl-cu12==2.19.3 in /usr/local/lib/python3.10/dist-packages (from torch->invisible_watermark) (2.19.3)\n",
            "Requirement already satisfied: nvidia-nvtx-cu12==12.1.105 in /usr/local/lib/python3.10/dist-packages (from torch->invisible_watermark) (12.1.105)\n",
            "Requirement already satisfied: triton==2.2.0 in /usr/local/lib/python3.10/dist-packages (from torch->invisible_watermark) (2.2.0)\n",
            "Requirement already satisfied: nvidia-nvjitlink-cu12 in /usr/local/lib/python3.10/dist-packages (from nvidia-cusolver-cu12==11.4.5.107->torch->invisible_watermark) (12.4.127)\n",
            "Requirement already satisfied: zipp>=0.5 in /usr/local/lib/python3.10/dist-packages (from importlib-metadata->diffusers) (3.18.1)\n",
            "Requirement already satisfied: charset-normalizer<4,>=2 in /usr/local/lib/python3.10/dist-packages (from requests->diffusers) (3.3.2)\n",
            "Requirement already satisfied: idna<4,>=2.5 in /usr/local/lib/python3.10/dist-packages (from requests->diffusers) (3.7)\n",
            "Requirement already satisfied: urllib3<3,>=1.21.1 in /usr/local/lib/python3.10/dist-packages (from requests->diffusers) (2.0.7)\n",
            "Requirement already satisfied: certifi>=2017.4.17 in /usr/local/lib/python3.10/dist-packages (from requests->diffusers) (2024.2.2)\n",
            "Requirement already satisfied: MarkupSafe>=2.0 in /usr/local/lib/python3.10/dist-packages (from jinja2->torch->invisible_watermark) (2.1.5)\n",
            "Requirement already satisfied: mpmath>=0.19 in /usr/local/lib/python3.10/dist-packages (from sympy->torch->invisible_watermark) (1.3.0)\n"
          ]
        }
      ],
      "source": [
        "pip install --upgrade diffusers invisible_watermark transformers accelerate safetensors"
      ]
    },
    {
      "cell_type": "code",
      "execution_count": null,
      "metadata": {
        "colab": {
          "base_uri": "https://localhost:8080/"
        },
        "id": "7Td_r-ohhbRQ",
        "outputId": "c2906259-305f-4ef9-dbf4-63fb920ffab0"
      },
      "outputs": [
        {
          "name": "stdout",
          "output_type": "stream",
          "text": [
            "cuda\n"
          ]
        },
        {
          "name": "stderr",
          "output_type": "stream",
          "text": [
            "/usr/local/lib/python3.10/dist-packages/huggingface_hub/utils/_token.py:88: UserWarning: \n",
            "The secret `HF_TOKEN` does not exist in your Colab secrets.\n",
            "To authenticate with the Hugging Face Hub, create a token in your settings tab (https://huggingface.co/settings/tokens), set it as secret in your Google Colab and restart your session.\n",
            "You will be able to reuse this secret in all of your notebooks.\n",
            "Please note that authentication is recommended but still optional to access public models or datasets.\n",
            "  warnings.warn(\n"
          ]
        }
      ],
      "source": [
        "import torch\n",
        "import time\n",
        "from diffusers import (\n",
        "    StableDiffusionXLPipeline,\n",
        "    EulerAncestralDiscreteScheduler,\n",
        "    AutoencoderKL\n",
        ")\n",
        "\n",
        "\n",
        "device = \"cuda\" if torch.cuda.is_available() else \"cpu\"\n",
        "print(device)\n",
        "\n",
        "\n",
        "###---\n",
        "# Initialize LoRA model and weights\n",
        "lora_model_id = \"Linaqruf/anime-detailer-xl-lora\"\n",
        "lora_filename = \"anime-detailer-xl.safetensors\"\n",
        "lora_scale_slider = 2 # -2 for less detailed result\n",
        "### ----\n",
        "\n",
        "# Load VAE component\n",
        "vae = AutoencoderKL.from_pretrained(\n",
        "    \"madebyollin/sdxl-vae-fp16-fix\",\n",
        "    torch_dtype=torch.float16\n",
        "    # torch_dtype=torch.float32\n",
        ")\n",
        "\n",
        "# Configure the pipeline\n",
        "pipe = StableDiffusionXLPipeline.from_pretrained(\n",
        "    \"Linaqruf/animagine-xl-2.0\",\n",
        "    vae=vae,\n",
        "    torch_dtype=torch.float16,\n",
        "    # torch_dtype=torch.float32,\n",
        "    use_safetensors=True,\n",
        "    variant=\"fp16\"\n",
        ")\n",
        "pipe.scheduler = EulerAncestralDiscreteScheduler.from_config(pipe.scheduler.config)\n",
        "\n",
        "pipe.to(device)\n",
        "\n",
        "\n",
        "\n"
      ]
    },
    {
      "cell_type": "markdown",
      "metadata": {
        "id": "zwzU1VtvMs-G"
      },
      "source": [
        "# Choose your Cloud Drive"
      ]
    },
    {
      "cell_type": "code",
      "execution_count": null,
      "metadata": {
        "colab": {
          "base_uri": "https://localhost:8080/"
        },
        "id": "jobM4w8coaCC",
        "outputId": "11c01c6d-30a8-420b-bef9-cb3501523d09"
      },
      "outputs": [
        {
          "name": "stdout",
          "output_type": "stream",
          "text": [
            "Drive already mounted at /content/drive; to attempt to forcibly remount, call drive.mount(\"/content/drive\", force_remount=True).\n"
          ]
        }
      ],
      "source": [
        "from google.colab import drive\n",
        "drive.mount('/content/drive')"
      ]
    },
    {
      "cell_type": "markdown",
      "metadata": {
        "id": "COlsS5kgMpUN"
      },
      "source": [
        "# Actual Model"
      ]
    },
    {
      "cell_type": "code",
      "execution_count": null,
      "metadata": {
        "id": "Dg6VCr-9_Iou"
      },
      "outputs": [],
      "source": [
        "# Folder behavior\n",
        "x = 1"
      ]
    },
    {
      "cell_type": "code",
      "execution_count": null,
      "metadata": {
        "id": "YehDjOvRldBP"
      },
      "outputs": [],
      "source": [
        "import random\n",
        "import matplotlib.pyplot as plt\n",
        "import math\n",
        "from PIL import Image\n",
        "\n",
        "\n",
        "\n",
        "eye_colors = ['red', 'blue', 'cyan', 'gold', 'black', 'hazel', 'Grey', 'green', 'brown', 'amber', 'violet', 'pink', 'turquoise', 'silver', 'purple', 'orange', 'yellow']\n",
        "mood = [\"happy, cheerful, bright\",\"sad, melancholic, tears\",\"frowning\",\"excited, energetic\",\"serene, calm\",\"mysterious, enigmatic\",\"romantic, intimate\",\"eerie, creepy\",\"playful, lighthearted\",\"nostalgic, sentimental\"]\n",
        "atmosphere = [\"sunny\", \"rainy\", \"stormy\", \"foggy\", \"starry\", \"cloudy\", \"windy\", \"calm\", \"snowy\", \"misty\"]\n",
        "style = [\"vintage\", \"modern\", \"retro\", \"gothic\", \"bohemian\", \"minimalist\", \"grunge\", \"romantic\", \"casual\", \"formal\",'album cover', 'anime']\n",
        "lighting = [\"bright\", \"dim\", \"soft\", \"harsh\", \"natural\", \"artificial\", \"warm\", \"cool\", \"dramatic\", \"subtle\"]\n",
        "background = [\"cityscape\", \"landscape\", \"seascape\", \"forest\", \"mountains\", \"beach\", \"desert\", \"urban\", \"rural\", \"space\"]\n",
        "outfit_color = [\"black\", \"white\", \"blue\", \"red\", \"green\", \"yellow\", \"purple\", \"pink\", \"orange\", \"gray\"]\n",
        "hair_color = [\"black\", \"white\", \"blue\", \"red\", \"green\", \"yellow\", \"purple\", \"pink\", \"orange\", \"gray\"]\n",
        "hair_style = [\"long straight\", \"short curly\", \"updo\", \"edgy\", \"ethnic\", \"versatile\", \"wavy\", \"braided\", \"bun\", \"pixie cut\"]\n",
        "outfit = [' ',\"maid uniform\", \"nude\", \"topless\", \"bottom less\", \"school uniform\", \"business suit\", \"casual jeans and t-shirt\", \"formal gown\", \"swimsuit\", \"athletic wear\", \"leggings\", \"bikini\"]\n",
        "\n",
        "\n",
        "i=0\n",
        "\n",
        "pipe.load_lora_weights(lora_model_id, weight_name=lora_filename)\n",
        "pipe.fuse_lora(lora_scale=lora_scale_slider)\n",
        "\n",
        "negative_prompt = \"dark,small,kid,curly hair,complex hair,lowres, bad anatomy, bad hands, text, error, missing fingers, extra digit, fewer digits, cropped, worst quality, low quality, normal quality, jpeg artifacts, signature, watermark, username, blurry\"\n",
        "for idx in range(40):\n",
        "\n",
        "    prompt = 'simple hair, adult, '\n",
        "    prompt += f' {random.choice(eye_colors)} eyes, '\n",
        "    prompt += f' {random.choice(mood)}, '\n",
        "    prompt += f' {random.choice(hair_style)} hair color, '\n",
        "    prompt += f' {random.choice(style)}, '\n",
        "    prompt += f' {random.choice(lighting)} lighting, '\n",
        "    prompt += f' {random.choice(background)} background, '\n",
        "    prompt += f' {random.choice(outfit_color)} outfit_color, '\n",
        "    prompt += f' {random.choice(hair_style)} hair_style, '\n",
        "\n",
        "    # prompt = 'simple hair, adult,  cyan eyes,  frowning,  short curly hair color,  bohemian,  dim lighting,  mountains background,  pink outfit_color,  short curly hair_style,'\n",
        "    # prompt = 'album cover in the style of 90\\'s vintage anime. detailed line art. fine details. the girl has long black straight hair and a pink outfit the characther name is tata'\n",
        "\n",
        "\n",
        "    image = pipe(\n",
        "        prompt,\n",
        "        negative_prompt=negative_prompt,\n",
        "        width=1024,\n",
        "        height=1024,\n",
        "        guidance_scale=12,\n",
        "        target_size=(4096,4096),\n",
        "        original_size=(4096,4096),\n",
        "        num_inference_steps=50\n",
        "        ).images[-1]\n",
        "\n",
        "    plt.subplot(5, 8, idx+1)\n",
        "    plt.imshow(image)\n",
        "    plt.axis('off')\n",
        "    plt.title(f\"{idx+1}\")\n",
        "\n",
        "    # Unfuse LoRA before saving the image\n",
        "    pipe.unfuse_lora()\n",
        "    image.save(f'/content/drive/MyDrive/My models/Lexica Output/{x}_{idx + 1}. {prompt} {math.ceil(random.random() * 10000)}.png')\n",
        "x+=1"
      ]
    },
    {
      "cell_type": "markdown",
      "metadata": {
        "id": "5TQ4nlW4BmeP"
      },
      "source": [
        "# Clean memory"
      ]
    },
    {
      "cell_type": "markdown",
      "metadata": {
        "id": "Cb5wrGs6M2CQ"
      },
      "source": [
        "##1. Download & Install Latest Setup\n",
        "\n",
        "\n",
        "https://rclone.org/downloads/\n",
        "\n",
        "Src:\n",
        "https://colab.research.google.com/drive/1ZlThjscTcoe9-YTfH9jMyowRC32Nt6nS#scrollTo=FexiyATtNwTG"
      ]
    },
    {
      "cell_type": "code",
      "execution_count": null,
      "metadata": {
        "colab": {
          "base_uri": "https://localhost:8080/"
        },
        "id": "ReMmitohIjM_",
        "outputId": "c943dcac-2eb4-4cf2-abff-f092ad13d218"
      },
      "outputs": [
        {
          "name": "stdout",
          "output_type": "stream",
          "text": [
            "--2024-04-18 13:18:57--  https://downloads.rclone.org/v1.66.0/rclone-v1.66.0-linux-amd64.deb\n",
            "Resolving downloads.rclone.org (downloads.rclone.org)... 95.217.6.16, 2a01:4f9:c012:7154::1\n",
            "Connecting to downloads.rclone.org (downloads.rclone.org)|95.217.6.16|:443... connected.\n",
            "HTTP request sent, awaiting response... 200 OK\n",
            "Length: 21572074 (21M) [application/vnd.debian.binary-package]\n",
            "Saving to: ‘rclone-v1.66.0-linux-amd64.deb.1’\n",
            "\n",
            "rclone-v1.66.0-linu 100%[===================>]  20.57M  12.0MB/s    in 1.7s    \n",
            "\n",
            "2024-04-18 13:18:59 (12.0 MB/s) - ‘rclone-v1.66.0-linux-amd64.deb.1’ saved [21572074/21572074]\n",
            "\n",
            "Reading package lists... Done\n",
            "Building dependency tree... Done\n",
            "Reading state information... Done\n",
            "Note, selecting 'rclone' instead of './rclone-v1.66.0-linux-amd64.deb'\n",
            "rclone is already the newest version (1.66.0).\n",
            "0 upgraded, 0 newly installed, 0 to remove and 45 not upgraded.\n"
          ]
        }
      ],
      "source": [
        "!wget https://downloads.rclone.org/v1.66.0/rclone-v1.66.0-linux-amd64.deb\n",
        "!apt install ./rclone-v1.66.0-linux-amd64.deb"
      ]
    },
    {
      "cell_type": "markdown",
      "metadata": {
        "id": "p8nzc0d2Nbpm"
      },
      "source": [
        "### 2. Authenticate Mega\n",
        "\n",
        "> Press n\n",
        "\n",
        "> name the folder\n",
        "\n",
        "> look for the mega number\n",
        "\n",
        "> write the mega's emaol\n",
        "\n",
        "> type y and type the password\n",
        "\n",
        "> type n > y > q\n",
        "\n",
        "\n"
      ]
    },
    {
      "cell_type": "code",
      "execution_count": null,
      "metadata": {
        "colab": {
          "base_uri": "https://localhost:8080/"
        },
        "id": "C62S5hq5NW_v",
        "outputId": "fbddd7b0-069d-4f37-ed8f-6696f502878b"
      },
      "outputs": [
        {
          "name": "stdout",
          "output_type": "stream",
          "text": [
            "Current remotes:\n",
            "\n",
            "Name                 Type\n",
            "====                 ====\n",
            "mega                 mega\n",
            "\n",
            "e) Edit existing remote\n",
            "n) New remote\n",
            "d) Delete remote\n",
            "r) Rename remote\n",
            "c) Copy remote\n",
            "s) Set configuration password\n",
            "q) Quit config\n",
            "e/n/d/r/c/s/q> n\n",
            "\n",
            "Enter name for new remote.\n",
            "name> actual mega\n",
            "\n",
            "Option Storage.\n",
            "Type of storage to configure.\n",
            "Choose a number from below, or type in your own value.\n",
            "\u001b[91m 1 / 1Fichier\n",
            "   \\ (fichier)\n",
            "\u001b[0m\u001b[92m 2 / Akamai NetStorage\n",
            "   \\ (netstorage)\n",
            "\u001b[0m\u001b[91m 3 / Alias for an existing remote\n",
            "   \\ (alias)\n",
            "\u001b[0m\u001b[92m 4 / Amazon S3 Compliant Storage Providers including AWS, Alibaba, ArvanCloud, Ceph, ChinaMobile, Cloudflare, DigitalOcean, Dreamhost, GCS, HuaweiOBS, IBMCOS, IDrive, IONOS, LyveCloud, Leviia, Liara, Linode, Minio, Netease, Petabox, RackCorp, Rclone, Scaleway, SeaweedFS, StackPath, Storj, Synology, TencentCOS, Wasabi, Qiniu and others\n",
            "   \\ (s3)\n",
            "\u001b[0m\u001b[91m 5 / Backblaze B2\n",
            "   \\ (b2)\n",
            "\u001b[0m\u001b[92m 6 / Better checksums for other remotes\n",
            "   \\ (hasher)\n",
            "\u001b[0m\u001b[91m 7 / Box\n",
            "   \\ (box)\n",
            "\u001b[0m\u001b[92m 8 / Cache a remote\n",
            "   \\ (cache)\n",
            "\u001b[0m\u001b[91m 9 / Citrix Sharefile\n",
            "   \\ (sharefile)\n",
            "\u001b[0m\u001b[92m10 / Combine several remotes into one\n",
            "   \\ (combine)\n",
            "\u001b[0m\u001b[91m11 / Compress a remote\n",
            "   \\ (compress)\n",
            "\u001b[0m\u001b[92m12 / Dropbox\n",
            "   \\ (dropbox)\n",
            "\u001b[0m\u001b[91m13 / Encrypt/Decrypt a remote\n",
            "   \\ (crypt)\n",
            "\u001b[0m\u001b[92m14 / Enterprise File Fabric\n",
            "   \\ (filefabric)\n",
            "\u001b[0m\u001b[91m15 / FTP\n",
            "   \\ (ftp)\n",
            "\u001b[0m\u001b[92m16 / Google Cloud Storage (this is not Google Drive)\n",
            "   \\ (google cloud storage)\n",
            "\u001b[0m\u001b[91m17 / Google Drive\n",
            "   \\ (drive)\n",
            "\u001b[0m\u001b[92m18 / Google Photos\n",
            "   \\ (google photos)\n",
            "\u001b[0m\u001b[91m19 / HTTP\n",
            "   \\ (http)\n",
            "\u001b[0m\u001b[92m20 / Hadoop distributed file system\n",
            "   \\ (hdfs)\n",
            "\u001b[0m\u001b[91m21 / HiDrive\n",
            "   \\ (hidrive)\n",
            "\u001b[0m\u001b[92m22 / ImageKit.io\n",
            "   \\ (imagekit)\n",
            "\u001b[0m\u001b[91m23 / In memory object storage system.\n",
            "   \\ (memory)\n",
            "\u001b[0m\u001b[92m24 / Internet Archive\n",
            "   \\ (internetarchive)\n",
            "\u001b[0m\u001b[91m25 / Jottacloud\n",
            "   \\ (jottacloud)\n",
            "\u001b[0m\u001b[92m26 / Koofr, Digi Storage and other Koofr-compatible storage providers\n",
            "   \\ (koofr)\n",
            "\u001b[0m\u001b[91m27 / Linkbox\n",
            "   \\ (linkbox)\n",
            "\u001b[0m\u001b[92m28 / Local Disk\n",
            "   \\ (local)\n",
            "\u001b[0m\u001b[91m29 / Mail.ru Cloud\n",
            "   \\ (mailru)\n",
            "\u001b[0m\u001b[92m30 / Mega\n",
            "   \\ (mega)\n",
            "\u001b[0m\u001b[91m31 / Microsoft Azure Blob Storage\n",
            "   \\ (azureblob)\n",
            "\u001b[0m\u001b[92m32 / Microsoft Azure Files\n",
            "   \\ (azurefiles)\n",
            "\u001b[0m\u001b[91m33 / Microsoft OneDrive\n",
            "   \\ (onedrive)\n",
            "\u001b[0m\u001b[92m34 / OpenDrive\n",
            "   \\ (opendrive)\n",
            "\u001b[0m\u001b[91m35 / OpenStack Swift (Rackspace Cloud Files, Blomp Cloud Storage, Memset Memstore, OVH)\n",
            "   \\ (swift)\n",
            "\u001b[0m\u001b[92m36 / Oracle Cloud Infrastructure Object Storage\n",
            "   \\ (oracleobjectstorage)\n",
            "\u001b[0m\u001b[91m37 / Pcloud\n",
            "   \\ (pcloud)\n",
            "\u001b[0m\u001b[92m38 / PikPak\n",
            "   \\ (pikpak)\n",
            "\u001b[0m\u001b[91m39 / Proton Drive\n",
            "   \\ (protondrive)\n",
            "\u001b[0m\u001b[92m40 / Put.io\n",
            "   \\ (putio)\n",
            "\u001b[0m\u001b[91m41 / QingCloud Object Storage\n",
            "   \\ (qingstor)\n",
            "\u001b[0m\u001b[92m42 / Quatrix by Maytech\n",
            "   \\ (quatrix)\n",
            "\u001b[0m\u001b[91m43 / SMB / CIFS\n",
            "   \\ (smb)\n",
            "\u001b[0m\u001b[92m44 / SSH/SFTP\n",
            "   \\ (sftp)\n",
            "\u001b[0m\u001b[91m45 / Sia Decentralized Cloud\n",
            "   \\ (sia)\n",
            "\u001b[0m\u001b[92m46 / Storj Decentralized Cloud Storage\n",
            "   \\ (storj)\n",
            "\u001b[0m\u001b[91m47 / Sugarsync\n",
            "   \\ (sugarsync)\n",
            "\u001b[0m\u001b[92m48 / Transparently chunk/split large files\n",
            "   \\ (chunker)\n",
            "\u001b[0m\u001b[91m49 / Union merges the contents of several upstream fs\n",
            "   \\ (union)\n",
            "\u001b[0m\u001b[92m50 / Uptobox\n",
            "   \\ (uptobox)\n",
            "\u001b[0m\u001b[91m51 / WebDAV\n",
            "   \\ (webdav)\n",
            "\u001b[0m\u001b[92m52 / Yandex Disk\n",
            "   \\ (yandex)\n",
            "\u001b[0m\u001b[91m53 / Zoho\n",
            "   \\ (zoho)\n",
            "\u001b[0m\u001b[92m54 / premiumize.me\n",
            "   \\ (premiumizeme)\n",
            "\u001b[0m\u001b[91m55 / seafile\n",
            "   \\ (seafile)\n",
            "\u001b[0mStorage> 30\n",
            "\n",
            "Option user.\n",
            "User name.\n",
            "Enter a value.\n",
            "user> 999lolbro999@gmail.com\n",
            "\n",
            "Option pass.\n",
            "Password.\n",
            "Choose an alternative below.\n",
            "y) Yes, type in my own password\n",
            "g) Generate random password\n",
            "y/g> y\n",
            "Enter the password:\n",
            "password:\n",
            "Confirm the password:\n",
            "password:\n",
            "\n",
            "Edit advanced config?\n",
            "y) Yes\n",
            "n) No (default)\n",
            "y/n> n\n",
            "\n",
            "Configuration complete.\n",
            "Options:\n",
            "- type: mega\n",
            "- user: 999lolbro999@gmail.com\n",
            "- pass: *** ENCRYPTED ***\n",
            "Keep this \"actual mega\" remote?\n",
            "y) Yes this is OK (default)\n",
            "e) Edit this remote\n",
            "d) Delete this remote\n",
            "y/e/d> y\n",
            "\n",
            "Current remotes:\n",
            "\n",
            "Name                 Type\n",
            "====                 ====\n",
            "actual mega          mega\n",
            "mega                 mega\n",
            "\n",
            "e) Edit existing remote\n",
            "n) New remote\n",
            "d) Delete remote\n",
            "r) Rename remote\n",
            "c) Copy remote\n",
            "s) Set configuration password\n",
            "q) Quit config\n",
            "e/n/d/r/c/s/q> k\n",
            "This value must be one of the following characters: e, n, d, r, c, s, q.\n",
            "e/n/d/r/c/s/q> q\n"
          ]
        }
      ],
      "source": [
        "!rclone config"
      ]
    },
    {
      "cell_type": "markdown",
      "metadata": {
        "id": "fmxqg-_lNf-W"
      },
      "source": [
        "### 3. Mount Mega\n",
        "To stream files we need to mount Mega."
      ]
    },
    {
      "cell_type": "code",
      "execution_count": null,
      "metadata": {
        "colab": {
          "base_uri": "https://localhost:8080/"
        },
        "id": "gy8kr5zANfQB",
        "outputId": "736cb28a-cf4d-4d1d-9bc9-12a8dfbcbeff"
      },
      "outputs": [
        {
          "name": "stdout",
          "output_type": "stream",
          "text": [
            "mkdir: cannot create directory ‘/content/mega’: File exists\n",
            "nohup: appending output to 'nohup.out'\n"
          ]
        }
      ],
      "source": [
        "!sudo mkdir /content/mega\n",
        "!nohup rclone mount mega: /content/mega &"
      ]
    },
    {
      "cell_type": "code",
      "execution_count": null,
      "metadata": {
        "colab": {
          "background_save": true
        },
        "id": "MlBNdKlXBloR",
        "outputId": "a92e7a8d-6b82-4ee0-8f5c-4b38035cb92d"
      },
      "outputs": [
        {
          "data": {
            "text/plain": [
              "145"
            ]
          },
          "execution_count": 14,
          "metadata": {},
          "output_type": "execute_result"
        }
      ],
      "source": [
        "import gc\n",
        "\n",
        "if \"pipe\" in globals():\n",
        "    del pipe\n",
        "if \"image\" in globals():\n",
        "    del image\n",
        "torch.cuda.empty_cache()\n",
        "gc.collect()"
      ]
    }
  ],
  "metadata": {
    "accelerator": "GPU",
    "colab": {
      "collapsed_sections": [
        "Cb5wrGs6M2CQ"
      ],
      "gpuType": "T4",
      "provenance": [],
      "mount_file_id": "1xG9A2F1Tw-QwSpbxyIDegU6tNegBRpYY",
      "authorship_tag": "ABX9TyNLnrJz4joU2JCL7gRZf+pq",
      "include_colab_link": true
    },
    "kernelspec": {
      "display_name": "Python 3",
      "name": "python3"
    },
    "language_info": {
      "name": "python"
    }
  },
  "nbformat": 4,
  "nbformat_minor": 0
}